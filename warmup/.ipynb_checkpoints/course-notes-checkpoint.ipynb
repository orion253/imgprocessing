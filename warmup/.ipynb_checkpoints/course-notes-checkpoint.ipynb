{
 "cells": [
  {
   "cell_type": "markdown",
   "id": "44323714-9753-4fda-a90d-8f7dddf982d5",
   "metadata": {},
   "source": [
    "### Course notes"
   ]
  },
  {
   "cell_type": "code",
   "execution_count": 7,
   "id": "7431f92c-fe4b-43d3-9c8a-cd93e00fdd6e",
   "metadata": {},
   "outputs": [
    {
     "name": "stdout",
     "output_type": "stream",
     "text": [
      "<class 'numpy.ndarray'> (22,)\n"
     ]
    }
   ],
   "source": [
    "import numpy as np\n",
    "\n",
    "a = np.asarray([],dtype=int) # makes an empty array\n",
    "for n in range(32,75,2):    # Loop \"control\" statement\n",
    "    a = np.append(a, n)  # Inside of loop\n",
    "\n",
    "a2 = np.asarray(a, dtype=int)\n",
    "print(type(a2), np.shape(a2))\n"
   ]
  }
 ],
 "metadata": {
  "kernelspec": {
   "display_name": "Python 3 (ipykernel)",
   "language": "python",
   "name": "python3"
  },
  "language_info": {
   "codemirror_mode": {
    "name": "ipython",
    "version": 3
   },
   "file_extension": ".py",
   "mimetype": "text/x-python",
   "name": "python",
   "nbconvert_exporter": "python",
   "pygments_lexer": "ipython3",
   "version": "3.10.5"
  }
 },
 "nbformat": 4,
 "nbformat_minor": 5
}
