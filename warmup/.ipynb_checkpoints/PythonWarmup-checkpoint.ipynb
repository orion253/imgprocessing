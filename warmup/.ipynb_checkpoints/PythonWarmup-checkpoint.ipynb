{
 "cells": [
  {
   "cell_type": "markdown",
   "id": "essential-stamp",
   "metadata": {},
   "source": [
    "<div align='center'>\n",
    "    \n",
    "## Image Processing\n",
    "\n",
    "###  _Python_ Warmup\n",
    "</div>"
   ]
  },
  {
   "cell_type": "markdown",
   "id": "presidential-links",
   "metadata": {
    "deletable": false,
    "tags": []
   },
   "source": [
    "### 0. Introductory Remarks\n",
    "\n",
    "This is for _all_ students.  Test/refresh your _Python_ familiarity with the following relatively basic exercises.  If you have problems with any one of these, please ask a demonstrator for assistance.  If the first problems are _way_ too easy, you don’t need to attend the rest of the first session.  But if they are not, you may want to go through \n",
    "[_An Informal Introduction to Python_](https://docs.python.org/3/tutorial/introduction.html). This exercise sheet has been recently rewritten to move from _Matlab_ to _Python_ and tailored to meet the needs of the IP course, so feedback is welcome: any 'howlers' that you find should be pointed out."
   ]
  },
  {
   "cell_type": "markdown",
   "id": "floating-receptor",
   "metadata": {
    "deletable": false,
    "tags": []
   },
   "source": [
    "### 1. Python Lists vs Numpy Arrays"
   ]
  },
  {
   "cell_type": "markdown",
   "id": "dominican-liver",
   "metadata": {
    "deletable": false,
    "editable": false
   },
   "source": [
    "If you have experience with _Matlab_ or programming languages such as C/C++, you will be familiar with the idea of arrays. Arrays are variables which contain multiple items of the same type that can be addressed by specifying a location relative to the start (or end, in some languages) location in active memory. \n",
    "\n",
    "A source of confusion may be that _Python_ has similar stuctures to arrays, but by design, and widely used as its _primary_ equivalent data structure, is the `list`, which is not quite the same as an array. \n",
    "\n",
    "For those familiar with languages such as _Matlab_, lists in _Python_ do not recognise the application of something like an arithmetic operation to all elements: if variable `a` holds a list, something like:\n",
    "\n",
    "> a = [1, 2, 3]\n",
    "\n",
    "then the command:\n",
    "\n",
    "> b = a + 3\n",
    "\n",
    "is badly specified, as far as _Python_ goes (indeed, it is treated as a concatenation operation). Try the two commands above in the cell below:"
   ]
  },
  {
   "cell_type": "code",
   "execution_count": 1,
   "id": "subtle-nerve",
   "metadata": {
    "deletable": false,
    "editable": false
   },
   "outputs": [
    {
     "ename": "TypeError",
     "evalue": "can only concatenate list (not \"int\") to list",
     "output_type": "error",
     "traceback": [
      "\u001b[0;31m---------------------------------------------------------------------------\u001b[0m",
      "\u001b[0;31mTypeError\u001b[0m                                 Traceback (most recent call last)",
      "\u001b[0;32m<ipython-input-1-cae026ca8c07>\u001b[0m in \u001b[0;36m<module>\u001b[0;34m\u001b[0m\n\u001b[1;32m      1\u001b[0m \u001b[0ma\u001b[0m \u001b[0;34m=\u001b[0m \u001b[0;34m[\u001b[0m\u001b[0;36m1\u001b[0m\u001b[0;34m,\u001b[0m\u001b[0;36m2\u001b[0m\u001b[0;34m,\u001b[0m\u001b[0;36m3\u001b[0m\u001b[0;34m]\u001b[0m\u001b[0;34m\u001b[0m\u001b[0;34m\u001b[0m\u001b[0m\n\u001b[0;32m----> 2\u001b[0;31m \u001b[0mb\u001b[0m \u001b[0;34m=\u001b[0m \u001b[0ma\u001b[0m \u001b[0;34m+\u001b[0m \u001b[0;36m3\u001b[0m \u001b[0;31m# This will give you an error! Make sure you *understand* the error msg\u001b[0m\u001b[0;34m\u001b[0m\u001b[0;34m\u001b[0m\u001b[0m\n\u001b[0m\u001b[1;32m      3\u001b[0m \u001b[0mprint\u001b[0m\u001b[0;34m(\u001b[0m\u001b[0mb\u001b[0m\u001b[0;34m)\u001b[0m\u001b[0;34m\u001b[0m\u001b[0;34m\u001b[0m\u001b[0m\n",
      "\u001b[0;31mTypeError\u001b[0m: can only concatenate list (not \"int\") to list"
     ]
    }
   ],
   "source": [
    "a = [1,2,3]\n",
    "b = a + 3 # This will give you an error! Make sure you *understand* the error msg\n",
    "print(b)"
   ]
  },
  {
   "cell_type": "markdown",
   "id": "sonic-concern",
   "metadata": {},
   "source": [
    "On the other hand, if we use the very useful _numpy_ module, we find that the operations defined above work very nicely indeed."
   ]
  },
  {
   "cell_type": "code",
   "execution_count": null,
   "id": "immune-wednesday",
   "metadata": {
    "deletable": false,
    "editable": false
   },
   "outputs": [],
   "source": [
    "import numpy # This loads the numpy module, which contains math-like and vector like definitions\n",
    "\n",
    "a = numpy.asarray([1,2,3], dtype=int) # Creates a numpy array, with elements of type integer\n",
    "b = a + 3\n",
    "print(b)"
   ]
  },
  {
   "cell_type": "markdown",
   "id": "processed-jackson",
   "metadata": {},
   "source": [
    "You will note that _Python_ now \"knows\" how to perform the scalar addition on each element of array `a`, so we are (so far) doing something that is legal, which is adding a scalar to a vector. Now, we can try a few more useful operations."
   ]
  },
  {
   "cell_type": "markdown",
   "id": "applied-system",
   "metadata": {
    "deletable": false
   },
   "source": [
    "<div style=\"background:#EEEEFF;color:black\">\n",
    "\n",
    "#### Exercise 1\n",
    "Write _Python_ code to create an *array* of numbers containing the even integers between 31 and 75. _Hint_ you can either write this out manually, or (ideally) use a loop to do this in _Python_. Try both!\n",
    "\n",
    "To do this using a loop, you need the following pieces of information:\n",
    "\n",
    "1. You can create an empty list using something like\n",
    "    `a = [ ]`; you might try to guess how to turn that into an array!\n",
    "\n",
    "2. You can use the command `numpy.append()`. \n",
    "\n",
    "3. To construct a loop, you may use the construct as shown below:\n",
    "\n",
    "        for n in range(start, stop, step):\n",
    "            _do something in my loop_\n",
    "        \n",
    "   where the _`do something`..._ line should be indented by a Tab character.\n",
    "    &#9724;\n",
    "</div>"
   ]
  },
  {
   "cell_type": "markdown",
   "id": "imposed-district",
   "metadata": {},
   "source": [
    "<div class=\"alert alert-warning\">\n",
    "\n",
    "**Note:** The indentation of lines with control statements is **not** optional, as it is in other langages. In _C_, _Matlab_, _Fortran_ etc, you can get away with (this is [_pseudocode_](https://en.wikipedia.org/wiki/Pseudocode), and does not correspond to any particular language syntax):\n",
    "\n",
    "`for i = start _to_ finish {`\n",
    "\n",
    "`print('hello')`  # This should be indented (i.e. shifted to the right)\n",
    "\n",
    "`}`\n",
    "\n",
    "You can't get away with this in _Python_: instead of having something indicating the beggining and end of the inner part of the loop, the indentation itself plays this role! So everything that is indented will be repeated according to the loop control conditions.\n",
    "Note also the presence of the colon symbol `:`, which is also a requirement.\n",
    "    \n",
    "A similar arrangement exists for conditional statements.\n",
    "\n",
    "</div>"
   ]
  },
  {
   "cell_type": "markdown",
   "id": "olympic-tattoo",
   "metadata": {},
   "source": [
    "<div class=\"alert alert-info\">\n",
    "    \n",
    "_Python_ has the in-built `range` class which returns an object that is of type  `sequence`; a `sequence` is similar to the more commonly known `list` and `tuple`. We will not explore this too much in this Notebook, even though it is very widely used in controlling loops. You should note that the sequence produced by the syntax `range(start, stop, step)` or the one we have used above `range(stop)` includes `start` but not `stop`.\n",
    "    \n",
    "</div>"
   ]
  },
  {
   "cell_type": "markdown",
   "id": "modified-columbia",
   "metadata": {},
   "source": [
    "<details>\n",
    "    <summary outline=\"1pt\"><b>One Possible Solution to Exercise 1.</b></summary>\n",
    "    \n",
    "   <p></p>\n",
    "    \n",
    "```python\n",
    "   import numpy\n",
    "   a = numpy.asarray([],dtype=int) # makes an empty array\n",
    "   for n in range(32,75,2):    # Loop \"control\" statement\n",
    "       a = numpy.append(a, n)  # Inside of loop\n",
    "\n",
    "   print(a)\n",
    "```\n",
    "</details>"
   ]
  },
  {
   "cell_type": "markdown",
   "id": "handed-apache",
   "metadata": {},
   "source": [
    "**Finishing up on this**  \n",
    "\n",
    "1. It is common to use the following sort of convention for importing the _numpy_ library:\n",
    "\n",
    "                \n",
    "        import numpy as np \n",
    "               \n",
    "    \n",
    "   and then the commands become instead something like this (important: compare with earlier \n",
    "   use of the `numpy.append` command):\n",
    "    \n",
    "    ```python\n",
    "       a = np.asarray([1,2,3], dtype = int)\n",
    "\n",
    "       b = np.append.... etc\n",
    "    ```\n",
    "\n",
    "2.  Apart from float, you can also have `dtype = float, uint8, double` etc. If you do not (and cannot guess) what the difference is between these types (`float`,`double`), please speak with a GTA for assistance.\n",
    "\n",
    "\n",
    "3. We can address specific elements of the array `a` defined above as follows:\n",
    "\n",
    "        print(a[0])  # This is the first element\n",
    "        \n",
    "        print(a[2])  # The *third* element in the array"
   ]
  },
  {
   "cell_type": "markdown",
   "id": "cathedral-salem",
   "metadata": {
    "deletable": false,
    "tags": []
   },
   "source": [
    "### Interlude 1 - Some useful commands\n",
    "<a id='IL2'></a>\n",
    "It turns out that figuring out the data type of a variable - either one you create or one that is returned by some in-built or library function - is very handy (that's an understatement!). Amongst the most useful of these is `len` which allows us to examine the number of elements within an array or list and the command `type` to find the class of a particular variable or object. \n",
    "\n",
    "Thus, if we had the following:\n",
    "\n",
    "```python\n",
    "import numpy as np\n",
    "a1 = [1,2,3]\n",
    "print(type(a))\n",
    "a2 = np.asarray(a, dtype=int)\n",
    "print(type(a1))\n",
    "```\n",
    "we would be able to tell the difference between `a1` and `a2`.\n",
    "\n",
    "Another _super_ useful numpy command is `np.shape()`. So trying\n",
    "\n",
    "        np.shape(a2)\n",
    "        \n",
    "gives useful information about the shape of `a2`. Try this now, and note the answer (*really* note it).\n",
    "\n",
    "It is also useful (assuming that code is being well maintained by the author) to use `help()`. Thus (for example) `help (np.shape)` will give you the documentation about that particular command. You can often find this information on the official documentation page for `numpy`; similar help commands will generally work for good quality _Python_ libraries.\n"
   ]
  },
  {
   "cell_type": "markdown",
   "id": "governing-designation",
   "metadata": {
    "deletable": false
   },
   "source": [
    "<div style=\"background:#EEEEFF;color:black\">\n",
    "\n",
    "#### Exercise 2\n",
    "\n",
    "Let x = [1, 7, 2, 3]. \n",
    "\n",
    "Create this as 1 x 4 numpy array in the _Python_ workspace.\n",
    "\n",
    "a. Add 15 to each element\n",
    "\n",
    "b. Add 2 to just the even-indexed elements (Reminder: we start indexing at `0` in _Python_)!\n",
    "\n",
    "c. Compute the square root of each element\n",
    "\n",
    "d. Compute the cube of each element\n",
    "\n",
    "In each case, consider they _type_ of numpy array representation that would be most efficient, yet also obtain correct results. Note that the type of the _result_ of some operations above may be automatically determined by `numpy`, and may be different from the input to the calculation. If you want to specify a greater range of possible representations, a list of these can be obtained [here](https://numpy.org/doc/stable/user/basics.types.html).  Note that some installations (it is rather bizarre) may require that `dtype` be specified\n",
    "as `np.unit8`, or `np.uint16` rather than simply `uint8` or `uint16`.&#9724;\n",
    "</div>"
   ]
  },
  {
   "cell_type": "markdown",
   "id": "celtic-black",
   "metadata": {},
   "source": [
    "<details>\n",
    "    <summary> Click <b>here</b> for possible solutions </summary>\n",
    "    \n",
    "First:\n",
    "    `x = np.asarray([1, 7, 2, 3], dtype=int)`\n",
    "    Note: you could also use np.uint8 for this case; but if we had to do arithmetic on this array that\n",
    "    meant having numbers greater than 255, or less than zero, we would have to use a _signed_ representation\n",
    "    rather than unsigned, and a floating point representation if we wanted to include fractions.\n",
    "\n",
    "a.  `x = x+15`\n",
    "    \n",
    "b.  You could use a loop to do this; later, you will see how to do it using indexing syntax.\n",
    "    So, with a loop:\n",
    "    \n",
    "```python\n",
    "    \n",
    "    for i in range(0,4,2):\n",
    "        x[i] = x[i] + 2\n",
    "    \n",
    "    \n",
    "```\n",
    "\n",
    "The _Pythonic_ way of doing this (which we will look at later) is:\n",
    "    \n",
    "`x[0::2] = x[0::2] + 2`\n",
    "\n",
    "c. I would recommend casting values to float before doing pretty much any non-trivial mathematical \n",
    "   operation. In that case, you would do:\n",
    "    \n",
    "`np.sqrt(np.asarray(x, dtype=float))`\n",
    "    \n",
    "   but this not _necessary_ to get the right answer with `numpy`. You can just do:\n",
    "    \n",
    "`np.sqrt(x)`\n",
    "    \n",
    "   **but** we would urge caution in doing calculations without converting arrays into floating\n",
    "   point representations.\n",
    "    \n",
    "    \n",
    "d. `x**3`\n",
    "</details>"
   ]
  },
  {
   "cell_type": "markdown",
   "id": "sticky-extent",
   "metadata": {
    "deletable": false,
    "editable": false,
    "tags": []
   },
   "source": [
    "### 2. Numpy arrays as vectors\n",
    "<a id='Sec-2'></a>\n",
    "We can do certain types of operations between `numpy` arrays. We will find that\n",
    "several fairly obvious operations are understood, just as they would be between two vector operations. \n",
    "\n",
    "There are some very striking differences with the assumptions made by _Matlab_ however, which means that operators such as `*`  and `.*` in _Matlab_ do not\n",
    "necessarily translate in the same way to numpy arrays in _Python_. Specifically, whilst the `*` operation in _Matlab_ **always** obeys the rules of matrix and matrix/vector algebra, the same is not the case for _Python_, which in contrast assumes\n",
    "element-wise operations to so-called binary arithmetic operators (i.e. those that take two arguments)."
   ]
  },
  {
   "cell_type": "markdown",
   "id": "defined-lobby",
   "metadata": {},
   "source": [
    "If we want similar behaviour in _Python_ -- treating arrays of numbers as vectors -- we meet our first slight complexity; _Python_, for example, does not understand the notion of \"transpose\" _unless_ you insist that these are really vectors rather than arrays. The easiest way to do this is to treat the these arrays as *single column 2D arrays* like so:\n",
    "\n",
    "        x  =  [[1],\n",
    "              [7],\n",
    "              [2]\n",
    "              [3]]\n",
    "\n",
    "You will find that if you now print this, and look at its shape, it is rather different to what we had at the end of Exercise 2:"
   ]
  },
  {
   "cell_type": "code",
   "execution_count": 47,
   "id": "vital-research",
   "metadata": {
    "deletable": false,
    "editable": false
   },
   "outputs": [
    {
     "name": "stdout",
     "output_type": "stream",
     "text": [
      "Shape of x is: (4, 1)\n",
      "Shape of x is now: (1, 4)\n"
     ]
    }
   ],
   "source": [
    "import numpy as np\n",
    "x  =  np.asarray([[1],[7],[2],[3]], dtype=float)\n",
    "print('Shape of x is:', np.shape(x))\n",
    "x = np.transpose(x)\n",
    "print('Shape of x is now:', np.shape(x))"
   ]
  },
  {
   "cell_type": "markdown",
   "id": "functioning-roller",
   "metadata": {},
   "source": [
    "**Quiz**\n",
    "Can you guess how you would create a 1x4 array?"
   ]
  },
  {
   "cell_type": "markdown",
   "id": "rational-desert",
   "metadata": {
    "tags": [
     "hide-cell"
    ]
   },
   "source": [
    "<details>\n",
    "  <summary outline=\"1pt\">🆘 Stuck on the Quiz? Click here to see a possible solution</summary>\n",
    "    \n",
    "   <p></p>\n",
    "\n",
    "```python\n",
    "x = np.asarray([[1, 7, 2, 3]], dtype=float)\n",
    "```\n",
    "Note the use of the nested ```[ ]``` operators!\n",
    "</details>"
   ]
  },
  {
   "cell_type": "markdown",
   "id": "studied-venezuela",
   "metadata": {
    "deletable": false
   },
   "source": [
    "<div style=\"background:#EEEEFF;color:black\">\n",
    "\n",
    "#### Exercise 3\n",
    "\n",
    "Let \n",
    "$$\n",
    "\\mathbf{x} = [3\\, 2\\, 6\\, 8]^T \n",
    "$$\n",
    "\n",
    "and \n",
    "\n",
    "$$\n",
    "\\mathbf{y} = [4\\, 1\\, 3\\, 5]^T \n",
    "$$\n",
    "\n",
    "Create both of these as 4 x 1 \"vectors\" in the _Python_ workspace, and ensure that their type is `float`.\n",
    "\n",
    "a. Add each element in $\\mathbf{x}$ to each element of $\\mathbf{y}$; assign the result \n",
    "   to vector $\\mathbf{z}$\n",
    "\n",
    "b. Raise each element of $\\mathbf{x}$ to the power specified by the corresponding\n",
    "   element in $\\mathbf{y}$. This uses the _Python_ exponentiation `**` operator. Verify    the results using a calculator.\n",
    "\n",
    "c. Divide each element of $\\mathbf{y}$ by the corresponding element in $\\mathbf{x}$. \n",
    "   Check the result.\n",
    "\n",
    "d. Multiply each element in $\\mathbf{x}$ by the corresponding element in $\\mathbf{y}$;\n",
    "   assign this to $\\mathbf{z}$\n",
    "\n",
    "e. Add up the elements in $\\mathbf{z}$ from Task 3.d and assign the result to a \n",
    "   variable $w$; this requires the `np.sum()` function. What is the value of $w$?\n",
    "\n",
    "f. Compute $$\\mathbf{x}^T \\mathbf{y} - w$$ and assign it to the variable `result`. Does \n",
    "   the calculation make sense to you according to the rules of matrix/vector algebra? _Hint_:\n",
    "   You need to think carefully about the product between a row and column vector. We will\n",
    "   talk about this in class/\n",
    "\n",
    "\n",
    "In each case, consider they _type_ of numpy array representation you need to be most efficient in memory usage, yet also obtains correct results in accordance with your thinking, treating the operations as you would when doing everyday (floating point!) arithmetic. If you do not understand what this means, please speak with a UTA or GTA.  &#9724;\n",
    "\n",
    "</div>"
   ]
  },
  {
   "cell_type": "markdown",
   "id": "meaningful-covering",
   "metadata": {},
   "source": [
    "<details>\n",
    "  <summary> Click <b>here</b> to see the solutions for Ex 3. </summary>\n",
    "    \n",
    "\n",
    "\n",
    "`x = np.asarray([3, 2, 6, 8], dtype=float)`\n",
    "    \n",
    "`y = np.asarray([4, 1, 3, 5], dtype=float)`\n",
    "\n",
    "a. \n",
    "    \n",
    "`z = x+y`\n",
    "\n",
    "b.\n",
    "    \n",
    "`x**y`\n",
    "\n",
    "c.\n",
    "    \n",
    "`x/y`\n",
    "\n",
    "d.\n",
    "    \n",
    "`z = x*y`\n",
    "\n",
    "e.\n",
    "    \n",
    "`w = np.sum(z)`\n",
    "`print(w)`\n",
    "\n",
    "f.\n",
    "`result = np.sum(x*y) - w`\n",
    "    \n",
    "`print(result)`\n",
    " \n",
    " But, see \"Alternative\" solution, below, and the relation to matrix-vector multiplications.\n",
    "\n",
    "</details>"
   ]
  },
  {
   "cell_type": "markdown",
   "id": "neither-neighbor",
   "metadata": {},
   "source": [
    "<details>\n",
    "    <summary outline=\"1pt\"><b>Alternative solution to Ex. 3 f.</b></summary>\n",
    "    \n",
    "   <p></p>\n",
    "\n",
    "```python\n",
    "import numpy as np # not needed if already imported!\n",
    "x = np.asarray([[3],[2],[6],[8]], dtype=float)\n",
    "y = np.asarray([[4],[1],[3],[5]], dtype=float)\n",
    "print('Note: both x and y are of dimensions:', np.shape(x))\n",
    "result=np.dot(np.transpose(x),y)-np.sum(x*y)\n",
    "print('Result is:',result)\n",
    "print('Shape of result is:',np.shape(result))\n",
    "```\n",
    "</details>"
   ]
  },
  {
   "cell_type": "markdown",
   "id": "national-capacity",
   "metadata": {
    "deletable": false,
    "editable": false,
    "tags": []
   },
   "source": [
    "This little example provided in Exercise 3f is quite a useful reminder about vector algebra. $\\mathbf{x}$ and $\\mathbf{y}$ start lives as column vectors; a transposed column vector is a row vector; multipliying this by a column vector gives the dot product between the two vectors. You will recall that multiplying a $1 \\times N$ row vector by a $N \\times 1$ column vector \"contracts\" the vectors to a scalar. It is also known as the linear projection of the first vector against the second (or vice versa).  \n",
    "\n",
    "The mechanics of the dot product are that we take the _sum_ of the _products_ of the corresponding elements of each vector. Hence, the result of 0 in the final evaluation of Ex 3.6. You should make sure you understand this result, by way of reminding yourself about vector/vector multiply operations according to the rules of matrix/vector algebra.\n",
    "\n",
    "But you should also note that the result has a size of (1,1), which is weird. Indeed, if you do: "
   ]
  },
  {
   "cell_type": "code",
   "execution_count": 48,
   "id": "anonymous-quality",
   "metadata": {
    "deletable": false,
    "editable": false,
    "tags": []
   },
   "outputs": [
    {
     "name": "stdout",
     "output_type": "stream",
     "text": [
      "Result is: 0.0\n",
      "Shape of result is: ()\n"
     ]
    }
   ],
   "source": [
    "# Type the code below only if you have \"result\" defined from 3f!\n",
    "# If you get that charming, welcome pink regurgitation\n",
    "# of text below), you have not defined the variable \"result\".....\n",
    "result=np.squeeze(result) # gets rid of extraneous \"dimensions\" in the variable\n",
    "print('Result is:',result)\n",
    "print('Shape of result is:',np.shape(result))"
   ]
  },
  {
   "cell_type": "markdown",
   "id": "rubber-complement",
   "metadata": {},
   "source": [
    "...you will see that `result` is now a single (scalar) value. So rather than having this value stored in something like a 2D array (array of pointers to address locations), which is what the ```[[]]``` notation implies, we now have `result` as simply a pointer to the address of where the scalar is to be found."
   ]
  },
  {
   "cell_type": "markdown",
   "id": "rolled-strand",
   "metadata": {
    "deletable": false
   },
   "source": [
    "<div style=\"background:#EEEEFF;color:black\">\n",
    "   \n",
    "#### Exercise 4\n",
    "\n",
    "Evaluate the following _Python_ expressions by hand and use a calculator to check the answers:\n",
    "   \n",
    "a.    `2 / 2 * 3`\n",
    "\n",
    "b.    `6 - 2 / 5 + 7 ** 2 - 1`\n",
    "\n",
    "c.    `3 ** 2 / 4`\n",
    "\n",
    "d.    `3 ** 2 ** 2`\n",
    "\n",
    "e.    `2 + np.round(6 / 9 + 3 * 2) / 2 - 3`\n",
    "\n",
    "f.    `2 + np.floor(6 / 9 + 3 * 2) / 2 - 3`\n",
    "\n",
    "g.   `2 + np.ceil(6 / 9 + 3 * 2) / 2 - 3`\n",
    "\n",
    "If there are any results you do not understand, please contact a demonstrator. &#9724;\n",
    "</div>"
   ]
  },
  {
   "cell_type": "markdown",
   "id": "diverse-draft",
   "metadata": {
    "deletable": false
   },
   "source": [
    "## 3. Control Statements\n",
    "So, we have seen that indented statements and _colons_ can be used to indicate loops. We use similar sorts of things for other types of control statements. Here is an example of using a simple (and pretty useless!) `if` statement:\n",
    "\n",
    "```\n",
    "\n",
    "for x in range(10):\n",
    "    if x == 5:\n",
    "        print('x is 5')\n",
    "        \n",
    "```\n",
    "\n",
    "Note the indentation after the `if` statement. We can also have an `if ... else...` construct:\n",
    "\n",
    "```\n",
    "for x in range(10):\n",
    "    if x == 5:\n",
    "        print('x is 5')\n",
    "        \n",
    "    else:\n",
    "        print('x is not 5...')\n",
    "```\n",
    "\n",
    "We can have conditional beyond the first `if`; in some languages, the keywords _else if_ are used; these are contracted in _Python_ to `elif`:\n",
    "\n",
    "```\n",
    "for x in range(10):\n",
    "    if x == 5:\n",
    "        print('x is 5')\n",
    "        \n",
    "    elif x==4:\n",
    "        print('x is 4...')\n",
    "    \n",
    "    else:\n",
    "        print('x is neither 4 nor 5...')\n",
    "     \n",
    "```\n",
    "\n",
    "Above, we make use of the equality comparison `==`.\n",
    "The full list of comparison operators (_less than_, _greater than_ etc) can be found [here](https://docs.python.org/3.7/reference/expressions.html#comparisons). If you need help with this section, please consult a teaching assistant; note that the best way to understand how to use these is by coding some things up yourself, to make sure you understand the use of the operators: very similar symbols are used to other programming languages, but one key difference (with, say, _C_ programming) is the _precedence_ of comparisons with respect to arithmetic performed on one either or both of the arguments."
   ]
  },
  {
   "cell_type": "markdown",
   "id": "afraid-attachment",
   "metadata": {},
   "source": [
    "### 4. List Comprehension "
   ]
  },
  {
   "cell_type": "markdown",
   "id": "advance-decision",
   "metadata": {
    "deletable": false
   },
   "source": [
    "<div style=\"background:#EEEEFF;color:black\">\n",
    "    \n",
    "#### Exercise 5\n",
    "\n",
    "Create `numpy` arrays with the elements given by (treat each of (a)-(d) separately). It is suggested that you do these first using loops (similar to what we did in Exercise 1), as a way of remembering how to do loops, and the syntax of using the `range()` function.\n",
    "\n",
    "a.    `2, 4, 6, 8, ..., 20`\n",
    "\n",
    "b.    `10, 8, 6, 4, 2, 0, -2, -4`\n",
    "\n",
    "c.    `1, 1/2, 1/3, 1/4, 1/5, ..., 1/20`\n",
    "\n",
    "d.    `0, 1/2, 2/3, 3/4, 4/5, ... , 19/20`\n",
    "\n",
    "Once completed using loops (just to remind ourselves of the syntax), we will also look at doing these using *list comprehension*, which is quite a common contruct in the _Python_ language. &#9724;\n",
    "</div>"
   ]
  },
  {
   "cell_type": "markdown",
   "id": "suitable-notice",
   "metadata": {},
   "source": [
    "<details>\n",
    "    <summary> Click <b>here</b> for some solutions </summary>\n",
    "   \n",
    "a) \n",
    "    \n",
    "```python\n",
    "    \n",
    "x = np.asarray([],dtype=int)\n",
    "\n",
    "for i in range(2,22,2):\n",
    "    x = np.append(x,i)\n",
    "    \n",
    "```\n",
    "\n",
    "b) \n",
    "    \n",
    "```python\n",
    "    \n",
    "x = np.asarray([],dtype=int)\n",
    "\n",
    "for i in range(10,-6,-2):\n",
    "    x = np.append(x,i)\n",
    "    \n",
    "```\n",
    "\n",
    "c)\n",
    "    \n",
    "```python\n",
    "    \n",
    "x = np.asarray([],dtype=int)\n",
    "\n",
    "for i in range(1,21):\n",
    "    x = np.append(x,1/i)\n",
    "    \n",
    "```\n",
    "\n",
    "d) \n",
    "  \n",
    "```python\n",
    "    \n",
    "x = np.asarray([],dtype=int)\n",
    "\n",
    "for i in range(0,20):\n",
    "    x = np.append(x,i/(i+1))\n",
    "\n",
    "```\n",
    "\n",
    "    "
   ]
  },
  {
   "cell_type": "markdown",
   "id": "institutional-athletics",
   "metadata": {},
   "source": [
    "List comprehension is a very nifty way of building lists, which can then be turned into arrays, conveniently. For example, if we type the command:\n",
    "\n",
    "`[m for m in range(5)]`\n",
    "\n",
    "(which looks a little clumsy), we will get a list containing 5 elements, starting from 0 to 4 in steps of 1. We can even add some conditions to this, so that we can eliminate a particular value in this list, if we wish with a condition:\n",
    "\n",
    "`[m for m in range(5) if m>0]`\n",
    "\n",
    "Furthermore, the first occurrence of `m` in the line above can be replaced with pretty much any simple expression involving `m`. Given this, how would you solve **Ex 5-a.**?"
   ]
  },
  {
   "cell_type": "markdown",
   "id": "reported-runner",
   "metadata": {},
   "source": [
    "<details>\n",
    "<summary outline=\"1pt\">🆘<b>Solution to Ex. 5 a using LC</b></summary>\n",
    "   <p> </p>\n",
    "    \n",
    "```python\n",
    "x = np.asarray([2*(n+1) for n in range(10)], dtype=int)\n",
    "\n",
    "```\n",
    "<p></p>\n",
    "So....\n",
    "    did you remember to convert the list to a numpy array :-)?  \n",
    "\n",
    "</details>"
   ]
  },
  {
   "cell_type": "markdown",
   "id": "stuck-involvement",
   "metadata": {},
   "source": [
    "Once you have got this done, work on the solutions for **5-b** to **5-d** using list comprehension as well. If you get stuck, please speak with a demonstrator rather than just trying to get hold of the answers; in this way, we can learn what pieces you find difficult, and can then proceed accordingly."
   ]
  },
  {
   "cell_type": "markdown",
   "id": "joined-novel",
   "metadata": {},
   "source": [
    "### 5. Dictionaries"
   ]
  },
  {
   "cell_type": "markdown",
   "id": "featured-influence",
   "metadata": {},
   "source": [
    "Dictionaries are a _Python_ structure similar to associative memory. An example will explain how this works sufficiently well:"
   ]
  },
  {
   "cell_type": "code",
   "execution_count": null,
   "id": "classified-syndicate",
   "metadata": {},
   "outputs": [],
   "source": [
    "x = {'Key-1': 'Chocolate',\n",
    "     'Key-2': 'Vanilla'}"
   ]
  },
  {
   "cell_type": "code",
   "execution_count": null,
   "id": "included-norman",
   "metadata": {},
   "outputs": [],
   "source": [
    "MyFavourite = x['Key-1']\n",
    "print(MyFavourite)"
   ]
  },
  {
   "cell_type": "code",
   "execution_count": null,
   "id": "strong-castle",
   "metadata": {},
   "outputs": [],
   "source": [
    "YourFavourite = x['Key-2']\n",
    "print(YourFavourite)"
   ]
  },
  {
   "cell_type": "markdown",
   "id": "collected-tackle",
   "metadata": {},
   "source": [
    "The _Keys_ in this case are the strings `'Key_1'` and `'Key_2'`, and the _Values_ (in this case) are the strings 'Vanilla' and 'Chocolate'. The values can also be numbers, arrays or other _Python_ objects: "
   ]
  },
  {
   "cell_type": "code",
   "execution_count": null,
   "id": "injured-trader",
   "metadata": {},
   "outputs": [],
   "source": [
    "import numpy as np\n",
    "\n",
    "x = {'Key-1': np.asarray([1,2,3,], dtype=int),\n",
    "     'Key-2': np.asarray([1.0/2.0, 3.0/4.0], dtype=float)}"
   ]
  },
  {
   "cell_type": "code",
   "execution_count": null,
   "id": "wanted-circulation",
   "metadata": {},
   "outputs": [],
   "source": [
    "x['Key-2']"
   ]
  },
  {
   "cell_type": "markdown",
   "id": "following-german",
   "metadata": {},
   "source": [
    "Arrays of dictionaries can also be defined, using a syntax like this:"
   ]
  },
  {
   "cell_type": "code",
   "execution_count": null,
   "id": "criminal-championship",
   "metadata": {},
   "outputs": [],
   "source": [
    "myList = [\n",
    "    {\n",
    "        'apples':12,\n",
    "        'pears':14\n",
    "    },\n",
    "    {\n",
    "        'almonds':52,\n",
    "        'cashews':641\n",
    "    },\n",
    "    {\n",
    "        'lettuce':6,\n",
    "        'tomatoes':84\n",
    "    }\n",
    "]"
   ]
  },
  {
   "cell_type": "markdown",
   "id": "threaded-franchise",
   "metadata": {},
   "source": [
    "Then, we can use address items on the  list using the order, but also need to keep track of the possible dictionary elements of each element."
   ]
  },
  {
   "cell_type": "code",
   "execution_count": null,
   "id": "preceding-soviet",
   "metadata": {},
   "outputs": [],
   "source": [
    "myList[1]['almonds']"
   ]
  },
  {
   "cell_type": "markdown",
   "id": "comprehensive-manitoba",
   "metadata": {},
   "source": [
    "but:"
   ]
  },
  {
   "cell_type": "code",
   "execution_count": null,
   "id": "false-humanity",
   "metadata": {},
   "outputs": [],
   "source": [
    "myList[0]['almonds'] # Won't work"
   ]
  },
  {
   "cell_type": "markdown",
   "id": "working-mechanism",
   "metadata": {},
   "source": [
    "Luckily, we can find out the _Keys_ for each entry using something like this:"
   ]
  },
  {
   "cell_type": "code",
   "execution_count": null,
   "id": "bizarre-lebanon",
   "metadata": {},
   "outputs": [],
   "source": [
    "myList[0].keys() #WOW!!!"
   ]
  },
  {
   "cell_type": "markdown",
   "id": "joined-racing",
   "metadata": {
    "deletable": false
   },
   "source": [
    "<div style=\"background:#EEEEFF;color:black\">\n",
    "\n",
    "#### Exercise 6\n",
    "Using the `for a in b` construct, print a little table (just using `print()` commands) that presents each item on the list, and the quantities of each from `myList`. &#9724;\n",
    "\n",
    "<div>"
   ]
  },
  {
   "cell_type": "markdown",
   "id": "light-spread",
   "metadata": {},
   "source": [
    "<details>\n",
    "<summary outline=\"1pt\">🆘<b>Solution to Ex. 6.</b></summary>\n",
    "<p> </p>\n",
    "\n",
    "```python\n",
    "for item in myList:\n",
    "    for category in item.keys():\n",
    "        print('Entry:',category,'Quantity:',item[category])\n",
    "```\n",
    "    \n",
    "**Question** Who on earth counts individual nuts?!?!?\n",
    "</details>"
   ]
  },
  {
   "cell_type": "markdown",
   "id": "attempted-bridal",
   "metadata": {},
   "source": [
    "A well written solution to Exercise 6 should convince you that, actually, good _Python_ code can be _very_ easy to read, and I would argue that this is one the attractions of the language. But it is also true that good code in general can be easy to read; what _Python_ gives us is some language constructs that support a very readable style of writing that may be associated with being [_Pythonic_](https://docs.python-guide.org/writing/style/).  Opinion: being _too_ passionate about style borders on being moronic.... "
   ]
  },
  {
   "cell_type": "markdown",
   "id": "short-wrapping",
   "metadata": {
    "tags": []
   },
   "source": [
    "### 6. Tuples\n",
    "\n",
    "Tuples are collections of data entities; they are what is called _immutable_, so the entries can't be changed, and do not have any particular order. They look a bit crazy in definition:"
   ]
  },
  {
   "cell_type": "code",
   "execution_count": null,
   "id": "sexual-surgery",
   "metadata": {},
   "outputs": [],
   "source": [
    "mytuple = 'apples', 'pears', [1,2,3,4]"
   ]
  },
  {
   "cell_type": "markdown",
   "id": "breeding-hunter",
   "metadata": {},
   "source": [
    "But can be addressed in a familiar way:"
   ]
  },
  {
   "cell_type": "code",
   "execution_count": null,
   "id": "tracked-museum",
   "metadata": {},
   "outputs": [],
   "source": [
    "mytuple[1] # This addresses the second element of the tuple"
   ]
  },
  {
   "cell_type": "code",
   "execution_count": null,
   "id": "interim-lounge",
   "metadata": {},
   "outputs": [],
   "source": [
    "len(mytuple) # So we can figure out how many elements there are...."
   ]
  },
  {
   "cell_type": "code",
   "execution_count": null,
   "id": "characteristic-clerk",
   "metadata": {},
   "outputs": [],
   "source": [
    "# And below, a useful way of looping over the entries\n",
    "for entry in mytuple:\n",
    "    print(entry)"
   ]
  },
  {
   "cell_type": "code",
   "execution_count": null,
   "id": "enormous-permit",
   "metadata": {},
   "outputs": [],
   "source": [
    "# An alternative way of grouping tuples - easier to read?\n",
    "mytuple = ('apples', 'pears', [1,2,3,4])"
   ]
  },
  {
   "cell_type": "code",
   "execution_count": null,
   "id": "cognitive-wallet",
   "metadata": {},
   "outputs": [],
   "source": [
    "len(mytuple)"
   ]
  },
  {
   "cell_type": "code",
   "execution_count": null,
   "id": "working-johnston",
   "metadata": {},
   "outputs": [],
   "source": [
    "for entry in mytuple:\n",
    "    print(entry)"
   ]
  },
  {
   "cell_type": "markdown",
   "id": "particular-testing",
   "metadata": {},
   "source": [
    "Tuples, when used as arguments to a function, can also be automatically unpacked (very confusing, if you ask me) by adding a `*` before the tuple when calling the function. To see the difference, contrast the following two expressions:"
   ]
  },
  {
   "cell_type": "code",
   "execution_count": null,
   "id": "massive-pasta",
   "metadata": {},
   "outputs": [],
   "source": [
    "print(mytuple)"
   ]
  },
  {
   "cell_type": "markdown",
   "id": "compliant-division",
   "metadata": {},
   "source": [
    "and..."
   ]
  },
  {
   "cell_type": "code",
   "execution_count": null,
   "id": "sunrise-giant",
   "metadata": {},
   "outputs": [],
   "source": [
    "print(*mytuple)"
   ]
  },
  {
   "cell_type": "markdown",
   "id": "proprietary-heath",
   "metadata": {},
   "source": [
    "...but note that you can't simply use `*tuple` on its own: it needs to be \"decently clothed\" in a function call!"
   ]
  },
  {
   "cell_type": "markdown",
   "id": "pregnant-sustainability",
   "metadata": {},
   "source": [
    "### 7. Sets\n",
    "Yep, we've got yet another data type! Sets are often used to hold collections of objects, such as strings, and are designed to support set-based operators, such as intersections and unions.\n",
    "\n",
    "So, we can have an (incomplete) set of mythical creatures:"
   ]
  },
  {
   "cell_type": "code",
   "execution_count": null,
   "id": "eligible-bradford",
   "metadata": {},
   "outputs": [],
   "source": [
    "mythical_creatures = {'Unicorn', 'Centaur', 'Dragon', 'Mermaid'}"
   ]
  },
  {
   "cell_type": "markdown",
   "id": "mexican-horizontal",
   "metadata": {},
   "source": [
    "Sets are, however, not subscriptable, so you can't do something like `mythical_creatures[2]`. "
   ]
  },
  {
   "cell_type": "markdown",
   "id": "instrumental-massage",
   "metadata": {},
   "source": [
    "But you can iterate over the items of a set like you can can with tuples:"
   ]
  },
  {
   "cell_type": "code",
   "execution_count": null,
   "id": "freelance-aerospace",
   "metadata": {},
   "outputs": [],
   "source": [
    "for creature in mythical_creatures:\n",
    "    print(creature)"
   ]
  },
  {
   "cell_type": "markdown",
   "id": "respected-internship",
   "metadata": {},
   "source": [
    "Personally, I tend to use sets to hold strings of characters that I might be looking for in a text document or the header of a file (more on this in later practicals).\n",
    "\n",
    "### Interlude 2\n",
    "Now is the time to have a more complete look at all of these constructs, and to get used to reading **proper** technical documentation on languages. Check out the official Python  [documentation](https://docs.python.org/3/tutorial/datastructures.html) on data structures. This covers pretty much what we have presented here, but goes a bit further into the operations and restrictions of the data structures supported by Python. *Learning to read documentation is a skill that you have to develop*, and so further elaboration of some of the language contstructs of _Python_, you will be referred to the reference material, which is usually best accessed online (not to mention free!).\n",
    "\n",
    "Next, we will move onto a more detailed look at working with `numpy` arrays, which is vital for image processing and many areas of data science and machine learning."
   ]
  },
  {
   "cell_type": "markdown",
   "id": "patent-borough",
   "metadata": {},
   "source": [
    "### 8. More on Numpy Arrays\n",
    "\n",
    "We looked at the idea of mapping a list to a numpy array which supported opperations. We also looked at how to create an array that supported the transpose operation - you basically need to have a 2D array structure (an array of 1D arrays, if you like), which can be created from lists.\n",
    "\n",
    "Starting from our _row_ and _column_ vector examples back in [Section 2](#Sec-2), we can now look at building a 2D array like so:"
   ]
  },
  {
   "cell_type": "code",
   "execution_count": null,
   "id": "severe-stack",
   "metadata": {},
   "outputs": [],
   "source": [
    "import numpy as np\n",
    "\n",
    "A = np.asarray([[1,2,3],[0,0,0],[-1,-2,-3]],dtype=float)"
   ]
  },
  {
   "cell_type": "code",
   "execution_count": null,
   "id": "vital-agreement",
   "metadata": {},
   "outputs": [],
   "source": [
    "print(A)"
   ]
  },
  {
   "cell_type": "markdown",
   "id": "owned-thanksgiving",
   "metadata": {},
   "source": [
    "A strong recommendation is to make use of the `np.shape()` command to verify the size and dimensions of the 2D array. This will return a `tuple` containing elements that describe the shape of the argument (which should be of type `numpy array`:"
   ]
  },
  {
   "cell_type": "code",
   "execution_count": null,
   "id": "environmental-tender",
   "metadata": {},
   "outputs": [],
   "source": [
    "theShape = np.shape(A)"
   ]
  },
  {
   "cell_type": "code",
   "execution_count": null,
   "id": "stable-certification",
   "metadata": {},
   "outputs": [],
   "source": [
    "# Typing the theShape gives us (echoes) the contents of\n",
    "# this tuple:\n",
    "theShape"
   ]
  },
  {
   "cell_type": "markdown",
   "id": "reported-attribute",
   "metadata": {},
   "source": [
    "And, yes, this is a tuple:"
   ]
  },
  {
   "cell_type": "code",
   "execution_count": null,
   "id": "demanding-toronto",
   "metadata": {},
   "outputs": [],
   "source": [
    "# `type` (see Interlude 1) tells us this is a tuple\n",
    "type(theShape)"
   ]
  },
  {
   "cell_type": "markdown",
   "id": "limited-climb",
   "metadata": {},
   "source": [
    "Thus, we can address its elements, like `theShape[0]` and `theShape[1]`"
   ]
  },
  {
   "cell_type": "markdown",
   "id": "sudden-threat",
   "metadata": {},
   "source": [
    "`numpy` also gives us some standard ways of creating fairly commonly used 2D arrays, by passing in an argument of the desired shape:"
   ]
  },
  {
   "cell_type": "code",
   "execution_count": null,
   "id": "canadian-cooling",
   "metadata": {},
   "outputs": [],
   "source": [
    "a = np.zeros((3,3))\n",
    "a"
   ]
  },
  {
   "cell_type": "code",
   "execution_count": null,
   "id": "small-prize",
   "metadata": {},
   "outputs": [],
   "source": [
    "a = np.ones((3,3))\n",
    "a # 'echos' the value of a"
   ]
  },
  {
   "cell_type": "markdown",
   "id": "standard-attack",
   "metadata": {},
   "source": [
    "Rather annoyingly, the command to create an identity matrix forces one to be explicit about this being square, so passing in a tuple does not work; we simply pass in the dimension of the square identity matrix:"
   ]
  },
  {
   "cell_type": "code",
   "execution_count": null,
   "id": "heard-animation",
   "metadata": {},
   "outputs": [],
   "source": [
    "a = np.eye(2)\n",
    "a"
   ]
  },
  {
   "cell_type": "markdown",
   "id": "going-fourth",
   "metadata": {},
   "source": [
    "Or, more excitingly:"
   ]
  },
  {
   "cell_type": "code",
   "execution_count": null,
   "id": "documentary-zealand",
   "metadata": {},
   "outputs": [],
   "source": [
    "a = np.eye(7)\n",
    "a"
   ]
  },
  {
   "cell_type": "markdown",
   "id": "specified-raising",
   "metadata": {},
   "source": [
    "#### 8.1 3D Arrays\n",
    "We will need to make use of 3D arrays in image processing. So, we start with the most logical way of defining these, using the `[ ]` construction:"
   ]
  },
  {
   "cell_type": "code",
   "execution_count": null,
   "id": "functional-bernard",
   "metadata": {},
   "outputs": [],
   "source": [
    "# Define a 3D array of type int\n",
    "a = np.asarray([[[1,2],[3,4]],[[4,3],[2,1]]], dtype=int)\n",
    "\n",
    "# Confirm this is indeed a 3D array\n",
    "np.shape(a)"
   ]
  },
  {
   "cell_type": "markdown",
   "id": "aggressive-hartford",
   "metadata": {},
   "source": [
    "There are some methods to help us create predefined 'standard' 3D (even ND) arrays:\n",
    "\n",
    "```a = np.zeros((3,3,3))```\n",
    "\n",
    "Confirm this is indeed a 3D array:\n",
    "\n",
    "```np.shape(a)```"
   ]
  },
  {
   "cell_type": "markdown",
   "id": "noble-ordering",
   "metadata": {},
   "source": [
    "Finally, here is a new one for you; we can generate uniformly distributed random numbers shaped into _N_-D using the following (this is 4-D):"
   ]
  },
  {
   "cell_type": "code",
   "execution_count": null,
   "id": "extreme-forestry",
   "metadata": {},
   "outputs": [],
   "source": [
    "a = np.random.rand(3,3,3,3)\n",
    "np.shape(a)"
   ]
  },
  {
   "cell_type": "markdown",
   "id": "constant-providence",
   "metadata": {
    "deletable": false,
    "editable": false
   },
   "source": [
    "<div style=\"background:#EEEEFF;color:black\">\n",
    "    \n",
    "**Exercise 7** Examine the entries of `a` from the immediately preceeding command. If you have any questions about the entries, ask a UTA/GTA. &#9724;\n",
    "\n",
    "<div>"
   ]
  },
  {
   "cell_type": "markdown",
   "id": "separated-fishing",
   "metadata": {},
   "source": [
    "<div class=\"alert alert-warning\">\n",
    "\n",
    "**Note** You can see a _major_ inconsistency between the arguments taken by `np.random.rand()` and `np.zeros()`. The former expects to take $N$ arguments for $N$-dimensional arrays, and the latter takes a single `tuple` argument with the tuple containing $N$ entries. This is one of those quirks that comes about from the way that _Python_ and its popular libraries have been developed from open-source contributions. Changing libraries such as this to be consistent would break many other existing libraries and code, so I would guess this is here to stay...\n",
    "\n",
    "</div>"
   ]
  },
  {
   "cell_type": "markdown",
   "id": "union-highland",
   "metadata": {},
   "source": [
    "#### 8.2 Array Slicing"
   ]
  },
  {
   "cell_type": "markdown",
   "id": "ordinary-racing",
   "metadata": {},
   "source": [
    "Understanding _numpy_ array slicing is vitally important for image processing. We'll start by defining a `3x3` numpy array of floating point numbers:"
   ]
  },
  {
   "cell_type": "code",
   "execution_count": null,
   "id": "devoted-buffer",
   "metadata": {},
   "outputs": [],
   "source": [
    "X = np.asarray([[1,2,3],[4,5,6],[7,8,9]], dtype=float)"
   ]
  },
  {
   "cell_type": "markdown",
   "id": "combined-crawford",
   "metadata": {},
   "source": [
    "Here is our first example of slicing:"
   ]
  },
  {
   "cell_type": "code",
   "execution_count": null,
   "id": "resident-charter",
   "metadata": {},
   "outputs": [],
   "source": [
    "a = X[0,:]\n",
    "a"
   ]
  },
  {
   "cell_type": "markdown",
   "id": "spatial-accordance",
   "metadata": {},
   "source": [
    "..and here is an exmaple of slicing in the other direction:"
   ]
  },
  {
   "cell_type": "code",
   "execution_count": null,
   "id": "brief-oliver",
   "metadata": {},
   "outputs": [],
   "source": [
    "b = X[:,0]\n",
    "b"
   ]
  },
  {
   "cell_type": "markdown",
   "id": "severe-james",
   "metadata": {},
   "source": [
    "In contrast to _Matlab_, which would preserve the shape of the slice, making a distinction between whether slicing a 2D array produces a row or a column vector, the slicing operation here produces only an array. You should make sure you understand this byr referring to the results of `np.shape()` in the part of this Notebook [where we first met arrays](#IL2) and also where we looked at the difference between [row and column vectors](#Sec-2):"
   ]
  },
  {
   "cell_type": "code",
   "execution_count": null,
   "id": "contained-collect",
   "metadata": {},
   "outputs": [],
   "source": [
    "print('Slicing one row:', np.shape(a))\n",
    "print('Slicing one column:', np.shape(b))"
   ]
  },
  {
   "cell_type": "markdown",
   "id": "naked-material",
   "metadata": {},
   "source": [
    "We can also extract sub-arrays, like this:"
   ]
  },
  {
   "cell_type": "code",
   "execution_count": null,
   "id": "outside-lithuania",
   "metadata": {},
   "outputs": [],
   "source": [
    "Y = X[0:2,0:2] # Note that column/row 2 are *not* included!\n",
    "Y"
   ]
  },
  {
   "cell_type": "markdown",
   "id": "lonely-block",
   "metadata": {},
   "source": [
    "Contrast this with"
   ]
  },
  {
   "cell_type": "code",
   "execution_count": null,
   "id": "champion-collins",
   "metadata": {},
   "outputs": [],
   "source": [
    "Y = X[1:3,1:3] # There *is* no column or row 3!\n",
    "Y"
   ]
  },
  {
   "cell_type": "markdown",
   "id": "isolated-insulin",
   "metadata": {},
   "source": [
    "This might be slightly confusing, but - like the `range` object we met earlier, the indexing does not run up to the end point (`b`) in the slicing syntax `a:b`."
   ]
  },
  {
   "cell_type": "markdown",
   "id": "sized-century",
   "metadata": {},
   "source": [
    "**Quiz** Given what we have just seen, can you now see how you might extract row and column vectors from a 2D array in a manner which preserves the row/column \"orientation\" that that extracting either a row or column of a matrix (think matrix algebra!) might suggest?"
   ]
  },
  {
   "cell_type": "markdown",
   "id": "latin-legislature",
   "metadata": {},
   "source": [
    "<details>\n",
    "<summary outline=\"1pt\">🆘 Stuck on the Quiz? Click here to see one solution</summary>\n",
    "    \n",
    "   <p></p>\n",
    "\n",
    "```python\n",
    "Y = X[:,0:1]\n",
    "```\n",
    "\n",
    "extracts the first column of `X` as a column vector, and\n",
    "\n",
    "```python\n",
    "Y = X[0:1,:]\n",
    "```\n",
    "\n",
    "extracts the first row of `X` as a row vector.\n",
    "\n",
    "</details>\n"
   ]
  },
  {
   "cell_type": "code",
   "execution_count": null,
   "id": "funny-cigarette",
   "metadata": {},
   "outputs": [],
   "source": [
    "Y = X[0:3:2,0:3:2] # What's happening here?\n",
    "Y"
   ]
  },
  {
   "cell_type": "markdown",
   "id": "exposed-output",
   "metadata": {},
   "source": [
    "Rather confusingly, we can index going backwards:"
   ]
  },
  {
   "cell_type": "code",
   "execution_count": null,
   "id": "institutional-butter",
   "metadata": {},
   "outputs": [],
   "source": [
    "Y = X[:-1,:] \n",
    "Y"
   ]
  },
  {
   "cell_type": "code",
   "execution_count": null,
   "id": "primary-diagnosis",
   "metadata": {},
   "outputs": [],
   "source": [
    "Y = X[:-2,:] \n",
    "Y"
   ]
  },
  {
   "cell_type": "code",
   "execution_count": null,
   "id": "interpreted-manual",
   "metadata": {},
   "outputs": [],
   "source": [
    "Y = X[:, 1:-1] \n",
    "Y"
   ]
  },
  {
   "cell_type": "markdown",
   "id": "fourth-bracket",
   "metadata": {},
   "source": [
    "Now, check this out:"
   ]
  },
  {
   "cell_type": "code",
   "execution_count": null,
   "id": "imposed-tennis",
   "metadata": {},
   "outputs": [],
   "source": [
    "Y = X[:, 3:0:-1]\n",
    "Y"
   ]
  },
  {
   "cell_type": "markdown",
   "id": "declared-legend",
   "metadata": {},
   "source": [
    "What happened here? If you can't figure it out, speak with a UTA/GTA. To test your understanding, try a few more examples that you construct yourself...."
   ]
  },
  {
   "cell_type": "markdown",
   "id": "split-petersburg",
   "metadata": {},
   "source": [
    "#### 8.3 _numpy_ array and vector operations\n",
    "\n",
    "_numpy_ also provides useful mathematical operations that are \"vectorised\", as in _Matlab_. By \"vectorised\" we mean that a mathematical operation such as taking the sine (`np.sin()`) or cosine (`np.cosine()`) of _all_ values in a numpy array can be performed without _explicitly_ writing loops. Here is an obvious example of what this means:"
   ]
  },
  {
   "cell_type": "code",
   "execution_count": 1,
   "id": "sustainable-collaboration",
   "metadata": {},
   "outputs": [
    {
     "data": {
      "text/plain": [
       "Text(0.5, 1.0, 'sine(2*pi*t) for t between 0 and 1')"
      ]
     },
     "execution_count": 1,
     "metadata": {},
     "output_type": "execute_result"
    },
    {
     "data": {
      "image/png": "[encoded data removed]",
      "text/plain": [
       "<Figure size 432x288 with 1 Axes>"
      ]
     },
     "metadata": {
      "needs_background": "light"
     },
     "output_type": "display_data"
    }
   ],
   "source": [
    "import numpy as np\n",
    "import matplotlib.pyplot as plt\n",
    "\n",
    "NSamples = 100\n",
    "dt = 0.01\n",
    "\n",
    "t = np.zeros(NSamples, dtype=float)\n",
    "y = np.zeros(NSamples, dtype=float)\n",
    "\n",
    "# Note the loop\n",
    "for i in range(0,NSamples):\n",
    "    t[i] = float(i)*dt\n",
    "    y[i] = np.sin(2*np.pi*t[i])\n",
    "    \n",
    "# Plotting functions, which are always handy\n",
    "# to scientists and engineers!\n",
    "plt.plot(t,y)\n",
    "plt.xlabel('Time')\n",
    "plt.ylabel('Amplitude')\n",
    "plt.title('sine(2*pi*t) for t between 0 and 1')"
   ]
  },
  {
   "cell_type": "markdown",
   "id": "thermal-somewhere",
   "metadata": {
    "deletable": false,
    "editable": false,
    "tags": []
   },
   "source": [
    "First, note the existence of `np.pi` which provides an approximation to the constant $\\pi$.\n",
    "\n",
    "Now, let's look at one step of vectorization. Let's say that we have the array `t` already defined. We can simply write the following:\n",
    "\n",
    "```python\n",
    "# Assuming t is already defined as above, as a 100-element numpy array with values \n",
    "# increasing in constant steps of dt:\n",
    "\n",
    "y = np.sin(2*np.pi*t) # This can be done *once* outside of the loop\n",
    "\n",
    "```\n",
    "\n",
    "But this seems to still be a pain, as we seem to still need a loop to define the variable `t`. But it turns out that there is a helper function provided for things like this:\n",
    "\n",
    "\n",
    "```python\n",
    "\n",
    "t = np.linspace(0,1,100) # This can be done *once* \n",
    "\n",
    "```\n",
    "\n",
    "So, the complete code would be this:"
   ]
  },
  {
   "cell_type": "code",
   "execution_count": 60,
   "id": "great-sacramento",
   "metadata": {},
   "outputs": [
    {
     "data": {
      "text/plain": [
       "Text(0.5, 1.0, 'sine(t) for t between 0 and 2 pi')"
      ]
     },
     "execution_count": 60,
     "metadata": {},
     "output_type": "execute_result"
    },
    {
     "data": {
      "image/png": "[encoded data removed]",
      "text/plain": [
       "<Figure size 432x288 with 1 Axes>"
      ]
     },
     "metadata": {
      "needs_background": "light"
     },
     "output_type": "display_data"
    }
   ],
   "source": [
    "import numpy as np\n",
    "import matplotlib.pyplot as plt\n",
    "\n",
    "NSamples = 100\n",
    "\n",
    "# Note that this is slightly more transparent, but it is\n",
    "# a matter of convenience/elegance/choice over where to\n",
    "# include the 2 pi factor\n",
    "t = np.linspace(0, 2*np.pi, NSamples)  # Look, Ma... \n",
    "y = np.sin(t)                        # ...no explicit loops!\n",
    "    \n",
    "# Plotting functions, which are always handy\n",
    "# to scientists and engineers!\n",
    "plt.plot(t,y)\n",
    "plt.xlabel('Time')\n",
    "plt.ylabel('Amplitude')\n",
    "plt.title('sine(t) for t between 0 and 2 pi') # Agree with title :-)?"
   ]
  },
  {
   "cell_type": "code",
   "execution_count": 90,
   "id": "completed-newcastle",
   "metadata": {},
   "outputs": [
    {
     "data": {
      "text/plain": [
       "Text(0.5, 1.0, 'sine(t) for t between 0 and 2 pi')"
      ]
     },
     "execution_count": 90,
     "metadata": {},
     "output_type": "execute_result"
    },
    {
     "data": {
      "image/png": "[encoded data removed]",
      "text/plain": [
       "<Figure size 576x576 with 1 Axes>"
      ]
     },
     "metadata": {
      "needs_background": "light"
     },
     "output_type": "display_data"
    }
   ],
   "source": [
    "# Finally, it is recommended to obtain axes for plotting using specific\n",
    "# plot objects that are designed to return axes; this will be particularly\n",
    "# useful when we overlay annotations onto images in later practicals\n",
    "# Ther example below takes the opportunity to add an explicit size\n",
    "# Compare with the code above....\n",
    "fig, ax = plt.subplots(figsize=(8,8)) \n",
    "\n",
    "ax.plot(t, y) # Note: this is a method of ax, not plt!\n",
    "ax.set_xlabel('Time') # How annoying is THAT inconsistency in syntax?!?!\n",
    "ax.set_ylabel('Time')\n",
    "ax.set_title('sine(t) for t between 0 and 2 pi') # I know, right?"
   ]
  },
  {
   "cell_type": "markdown",
   "id": "mysterious-dividend",
   "metadata": {
    "deletable": false
   },
   "source": [
    "<div style=\"background:#EEEEFF;color:black\">\n",
    "\n",
    "**Exercise 8**\n",
    "Generate plots for one cycle of periodic functions _sine_ and _cosine_  on the same figure (use different colours). You will have to check out the **matplotlib** documentation to do this.\n",
    "\n",
    "Then, introduce a variable &#969; representing angular frequency, and instead of plotting $y=\\sin(t)$ and $y=\\cos(t)$, plot \n",
    "$y=\\sin(\\omega t)$ and $y=\\cos(\\omega t)$, where $\\omega$ is known as an angular frequency. Vary the values of $\\omega$ in integer multiples of $\\pi$, i.e. $n\\pi, n= 0,1,2...$ and see how the plots change. &#9724;\n",
    "\n",
    "<div>"
   ]
  },
  {
   "cell_type": "code",
   "execution_count": 89,
   "id": "postal-berlin",
   "metadata": {},
   "outputs": [
    {
     "data": {
      "image/png": "[encoded data removed]",
      "text/plain": [
       "<Figure size 720x720 with 4 Axes>"
      ]
     },
     "metadata": {
      "needs_background": "light"
     },
     "output_type": "display_data"
    }
   ],
   "source": []
  },
  {
   "cell_type": "markdown",
   "id": "foster-daisy",
   "metadata": {},
   "source": [
    "<details><summary> Click <b>here</b> for solutions to <b>Ex. 8.</b> </summary>\n",
    "\n",
    "```python\n",
    "    \n",
    "fig, axes = plt.subplots(2,2, figsize=(10,10)) \n",
    "axes = axes.flatten()\n",
    "\n",
    "for n in range(0,4):\n",
    "\n",
    "    omega = n*np.pi\n",
    "    y1 = np.sin(omega*t)\n",
    "    y2 = np.cos(omega*t)\n",
    "\n",
    "    axes[n].plot(t, y1) # Note: this is a method of ax, not plt!\n",
    "    axes[n].plot(t, y2)\n",
    "\n",
    "    axes[n].legend(['sin','cos'])\n",
    "\n",
    "    axes[n].set_xlabel('Time') # How annoying is THAT inconsistency in syntax?!?!\n",
    "    axes[n].set_ylabel('Time')\n",
    "    axes[n].set_title('sin/cos('+str(n)+'$\\pi$ t)') \n",
    "\n",
    "```\n",
    "\n",
    "</details>"
   ]
  },
  {
   "cell_type": "markdown",
   "id": "residential-adobe",
   "metadata": {},
   "source": [
    "### 9. Functions, Modules and Packages\n",
    "\n",
    "#### 9.1 Functions\n",
    "Like all programming languages, _Python_ supports the definition of functions.\n",
    "Typically, a function takes and returns _arguments_ that represent the inputs and outputs to\n",
    "the function. So, for a trivial example of such a function, we might have the classic form \n",
    "of equation to define a straight line relationship between a variable $x$ and $y$:"
   ]
  },
  {
   "cell_type": "code",
   "execution_count": 20,
   "id": "silent-thailand",
   "metadata": {},
   "outputs": [],
   "source": [
    "# The following \"reset\" directive is included to make some aspects of functions clearer\n",
    "%reset -f \n",
    "import numpy as np\n",
    "def linearrel(x,m,c):\n",
    "    \n",
    "    \n",
    "    if np.ndim(m)>0 or np.ndim(c)>0:\n",
    "        \n",
    "        print('This function requires that m and c are scalars')\n",
    "        return None\n",
    "    \n",
    "    # If we mistakenly input a list for x, we convert it to a float array\n",
    "    x = np.asarray(x, dtype=float)   \n",
    "    \n",
    "    # You should recognise this...\n",
    "    y = m*x + c\n",
    "    \n",
    "    return y"
   ]
  },
  {
   "cell_type": "code",
   "execution_count": 22,
   "id": "amino-shipping",
   "metadata": {},
   "outputs": [
    {
     "name": "stdout",
     "output_type": "stream",
     "text": [
      "Result is: [3. 4. 5. 6.]\n"
     ]
    }
   ],
   "source": [
    "result=linearrel([1,2,3,4],1,2)\n",
    "print('Result is:', result)"
   ]
  },
  {
   "cell_type": "markdown",
   "id": "found-reward",
   "metadata": {},
   "source": [
    "Variables `x`, `m`, `c` and `y` have *scope* (i.e. are recognised) only within the function, and will be undefined (or will retain any original state that was present before the calling of\n",
    "the function).  We can also return multiple variables, by listing them with `return`, and also \n",
    "listing them on the left of the assignment (`=`) operator:\n",
    "\n",
    "```python\n",
    "\n",
    "def myfunc(...):\n",
    "    return a, b, c\n",
    "```\n",
    "and on calling:\n",
    "```python\n",
    "\n",
    "first, second, third = myfunc(...)\n",
    "\n",
    "```\n",
    "the value of output variable `a` will be passed to the variable `first`, `b` to the variable `second` and `c` to `third`.  The type of the variable as defined in `myfunc()` will be maintained as well. \n",
    "\n",
    "We can also do things like this:\n",
    "\n",
    "```python\n",
    "\n",
    "def myfunc(...):\n",
    "    return (a, b, c)\n",
    "```\n",
    "and on calling:\n",
    "```python\n",
    "\n",
    "result = myfunc(...)\n",
    "\n",
    "```\n",
    "the variable `result` will be a tuple containing three elements.\n",
    "\n",
    "One more things to mention about functions:\n",
    "    \n",
    "You can nest `def` commands, so that you can have functions that are only seen by \n",
    "the outer function definition.  Thus, in a notebook, if I have a `def myfunc()` that defines a \n",
    "function, then have something like `def mysubfunc()` indented as if nested under `myfunc()`, then\n",
    "`mysubfunc()` can be seen and called by `myfunc()`, but is not callable from outside of \n",
    "`myfunc()`. "
   ]
  },
  {
   "cell_type": "markdown",
   "id": "republican-japan",
   "metadata": {},
   "source": [
    "#### Modules\n",
    "_Modules_ are typically collections of functions that are stored in a .py file. So, if we have\n",
    "a _Python_ file containing several function definitions (i.e. several `def` statements of functional form) then we can import those functions from that file using something like the `import` functions we have seen before.\n",
    "\n",
    "So, let's say that the file `draw.py` has functions that are called `square()`, `circle()` and `rectangle()`; we can then do something like (these do not actually exist unless you define such a file!):\n",
    "\n",
    "```python\n",
    "from draw import square, circle\n",
    "\n",
    "# draw a square\n",
    "square()\n",
    "\n",
    "# draw a circle\n",
    "circle()\n",
    "```\n",
    "\n",
    "We would not be able to call the `rectangle()` function without loading it with the `import` command, but we can also import all the functions in the fictional `draw` module using:\n",
    "\n",
    "```python\n",
    "import draw\n",
    "\n",
    "# draw a square\n",
    "draw.square()\n",
    "\n",
    "# draw a circle\n",
    "draw.circle()\n",
    "\n",
    "# draw a rectangle\n",
    "draw.rectangle()\n",
    "\n",
    "```\n"
   ]
  },
  {
   "cell_type": "markdown",
   "id": "sunrise-billion",
   "metadata": {},
   "source": [
    "#### Packages\n",
    "To define packages, one usually creates a directory for them that typically sits below the\n",
    "root directory that runs the main _Python_ code or notebook; the modules and functions that\n",
    "need to be called by the external and internal functions of that are then defined in an\n",
    "`_init_.py` function. An example of such a directory structure for our hypothetical\n",
    "`shapes` package might look something like this (this is a directory structure/list of files):\n",
    "   \n",
    "```\n",
    "   shapes/\n",
    "            |---- _init_.py \n",
    "            |---- circle.py\n",
    "            |---- rectangle.py\n",
    "            |---- square.py\n",
    "```    \n",
    "\n",
    "and the file `_init_.py` can be empty, or can contain some code that is used to initialise the package on calling one of its modules or functions."
   ]
  },
  {
   "cell_type": "code",
   "execution_count": 4,
   "id": "banned-sydney",
   "metadata": {},
   "outputs": [],
   "source": [
    "from shapes import circle, square"
   ]
  },
  {
   "cell_type": "code",
   "execution_count": 5,
   "id": "comfortable-gospel",
   "metadata": {},
   "outputs": [
    {
     "data": {
      "text/plain": [
       "['__builtins__',\n",
       " '__cached__',\n",
       " '__doc__',\n",
       " '__file__',\n",
       " '__loader__',\n",
       " '__name__',\n",
       " '__package__',\n",
       " '__spec__',\n",
       " 'draw']"
      ]
     },
     "execution_count": 5,
     "metadata": {},
     "output_type": "execute_result"
    }
   ],
   "source": [
    "dir(circle) # Shows what functions and attributes exist"
   ]
  },
  {
   "cell_type": "code",
   "execution_count": 8,
   "id": "working-salvation",
   "metadata": {},
   "outputs": [
    {
     "data": {
      "text/plain": [
       "['__builtins__',\n",
       " '__cached__',\n",
       " '__doc__',\n",
       " '__file__',\n",
       " '__loader__',\n",
       " '__name__',\n",
       " '__package__',\n",
       " '__spec__',\n",
       " 'draw']"
      ]
     },
     "execution_count": 8,
     "metadata": {},
     "output_type": "execute_result"
    }
   ],
   "source": [
    "dir(square)  # Shows what functions and attributes exist"
   ]
  },
  {
   "cell_type": "code",
   "execution_count": 9,
   "id": "roman-exception",
   "metadata": {},
   "outputs": [
    {
     "name": "stdout",
     "output_type": "stream",
     "text": [
      "square\n"
     ]
    }
   ],
   "source": [
    "square.draw()"
   ]
  },
  {
   "cell_type": "markdown",
   "id": "together-rainbow",
   "metadata": {},
   "source": [
    "### 10. Classes\n",
    "\n",
    "Object Oriented (OO) programming follows several paradigms, some of which are intended to\n",
    "make code more easily reusable (which I seriously question). But one of the more sensible ideas\n",
    "introduced by OO programming is that it is often convenient and appropriate to combine the data\n",
    "used during specific computations with the functions that are tailored to that data. Hence, we\n",
    "have the notion of an image as a _Python_ object, and this is used by PIL, the _Python Image Library_;\n",
    "we will meet this library in the first practical.\n",
    "Here is a simple definition of a class:\n"
   ]
  },
  {
   "cell_type": "code",
   "execution_count": 108,
   "id": "seasonal-springfield",
   "metadata": {},
   "outputs": [],
   "source": [
    "class HelloWorldFromPi:\n",
    "    \"\"\"A simple example class\"\"\"\n",
    "\n",
    "    def __init__(self):\n",
    "        # A \"special\" function that is automatically called when\n",
    "        # an object with this class is created\n",
    "        print('Thanks for creating me!')\n",
    "        \n",
    "    # Define some attributes of this class\n",
    "    MyValue = 3.14159265359 \n",
    "    MyName = \"Pi\"\n",
    "\n",
    "    def MyGreeting(self):\n",
    "\n",
    "        # Note how the attributes are referred to: this avoids clashes with\n",
    "        # other variables that might be defined outside the class\n",
    "        MyGreeting = 'My name is ' + self.MyName + '. ' + 'Hello, World!'\n",
    "\n",
    "        return MyGreeting"
   ]
  },
  {
   "cell_type": "code",
   "execution_count": 109,
   "id": "exceptional-roads",
   "metadata": {},
   "outputs": [
    {
     "name": "stdout",
     "output_type": "stream",
     "text": [
      "Thanks for creating me!\n"
     ]
    }
   ],
   "source": [
    "# \"Instantiate\" an object with the class HelloWorldFromPi\n",
    "x = HelloWorldFromPi() # Note the brackets"
   ]
  },
  {
   "cell_type": "markdown",
   "id": "liable-edinburgh",
   "metadata": {},
   "source": [
    "We can now \"get at\" the _attributes_ of this object:"
   ]
  },
  {
   "cell_type": "code",
   "execution_count": 95,
   "id": "monthly-trinity",
   "metadata": {},
   "outputs": [
    {
     "data": {
      "text/plain": [
       "3.14159265359"
      ]
     },
     "execution_count": 95,
     "metadata": {},
     "output_type": "execute_result"
    }
   ],
   "source": [
    "x.MyValue"
   ]
  },
  {
   "cell_type": "markdown",
   "id": "chubby-firewall",
   "metadata": {},
   "source": [
    "And we can invoke the methods attached to this object, like so:"
   ]
  },
  {
   "cell_type": "code",
   "execution_count": 104,
   "id": "magnetic-american",
   "metadata": {},
   "outputs": [
    {
     "name": "stdout",
     "output_type": "stream",
     "text": [
      "My name is Pi. Hello, World!\n"
     ]
    }
   ],
   "source": [
    "# The class-specific function (known as a method) returns a string; print it!\n",
    "print(x.MyGreeting())"
   ]
  },
  {
   "cell_type": "markdown",
   "id": "incomplete-naples",
   "metadata": {},
   "source": [
    "Finally, like we did with the module/package in **Section 9**, we can do the following:"
   ]
  },
  {
   "cell_type": "code",
   "execution_count": 105,
   "id": "verified-accreditation",
   "metadata": {},
   "outputs": [
    {
     "data": {
      "text/plain": [
       "['MyGreeting',\n",
       " 'MyName',\n",
       " 'MyValue',\n",
       " '__class__',\n",
       " '__delattr__',\n",
       " '__dict__',\n",
       " '__dir__',\n",
       " '__doc__',\n",
       " '__eq__',\n",
       " '__format__',\n",
       " '__ge__',\n",
       " '__getattribute__',\n",
       " '__gt__',\n",
       " '__hash__',\n",
       " '__init__',\n",
       " '__init_subclass__',\n",
       " '__le__',\n",
       " '__lt__',\n",
       " '__module__',\n",
       " '__ne__',\n",
       " '__new__',\n",
       " '__reduce__',\n",
       " '__reduce_ex__',\n",
       " '__repr__',\n",
       " '__setattr__',\n",
       " '__sizeof__',\n",
       " '__str__',\n",
       " '__subclasshook__',\n",
       " '__weakref__']"
      ]
     },
     "execution_count": 105,
     "metadata": {},
     "output_type": "execute_result"
    }
   ],
   "source": [
    "dir(x)"
   ]
  },
  {
   "cell_type": "code",
   "execution_count": 106,
   "id": "parental-shirt",
   "metadata": {},
   "outputs": [
    {
     "data": {
      "text/plain": [
       "float"
      ]
     },
     "execution_count": 106,
     "metadata": {},
     "output_type": "execute_result"
    }
   ],
   "source": [
    "type(x.MyValue)"
   ]
  },
  {
   "cell_type": "code",
   "execution_count": 107,
   "id": "greater-unknown",
   "metadata": {},
   "outputs": [
    {
     "data": {
      "text/plain": [
       "method"
      ]
     },
     "execution_count": 107,
     "metadata": {},
     "output_type": "execute_result"
    }
   ],
   "source": [
    "type(x.MyGreeting)"
   ]
  },
  {
   "cell_type": "markdown",
   "id": "contained-check",
   "metadata": {},
   "source": [
    "### 11. Concluding Remarks\n",
    "\n",
    "_Python_ is a remarkably rich language, and there are multiple ways of achieving certain results. There is no way that we can spend longer going into the intricacies of _Python_: that would be totally unrealistic. Instead, I expect you to return to these notes as you need to recall how to structure certain control statements, and to get examples of list comprehension, and `numpy` syntax. \n",
    "\n",
    "Be aware that a key skill is to be able to figure out where to find the right information. The internet is a fabulous place for this, but it can also contain examples that refer to old versions of _Python_ libraries, or perhaps syntax that is obsolete (deprecated). Use caution and learn as best as possible to read the documentation and experiment with little code fragments to make sure you know what a command or function does. Also, make use of `type` and `dir` and `help` commands....\n"
   ]
  },
  {
   "cell_type": "markdown",
   "id": "maritime-capture",
   "metadata": {},
   "source": [
    "**Acknowledgements:** Many thanks to K Balaji who provided feedback on early versions of this NB, and GTAs from 2021/22 who are providing feedback as this is being run for the first time! "
   ]
  },
  {
   "cell_type": "code",
   "execution_count": null,
   "id": "visible-winning",
   "metadata": {},
   "outputs": [],
   "source": []
  }
 ],
 "metadata": {
  "kernelspec": {
   "display_name": "Python 3",
   "language": "python",
   "name": "python3"
  },
  "language_info": {
   "codemirror_mode": {
    "name": "ipython",
    "version": 3
   },
   "file_extension": ".py",
   "mimetype": "text/x-python",
   "name": "python",
   "nbconvert_exporter": "python",
   "pygments_lexer": "ipython3",
   "version": "3.7.4"
  }
 },
 "nbformat": 4,
 "nbformat_minor": 5
}
